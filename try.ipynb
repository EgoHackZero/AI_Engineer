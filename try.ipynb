{
 "cells": [
  {
   "cell_type": "code",
   "execution_count": 1,
   "id": "2174f4df",
   "metadata": {},
   "outputs": [
    {
     "name": "stdout",
     "output_type": "stream",
     "text": [
      "Paris is a city rich in history, culture, and beauty. Here are some must-see attractions and experiences you shouldn't miss:\n",
      "\n",
      "1. **Eiffel Tower**: An iconic symbol of Paris, you can either admire it from the ground or take a lift to the top for a breathtaking view of the city.\n",
      "\n",
      "2. **Louvre Museum**: Home to thousands of works of art, including the Mona Lisa and the Winged Victory. The museum is housed in the Louvre Palace, a former royal residence.\n",
      "\n",
      "3. **Notre-Dame Cathedral**: Although severely damaged by a fire in 2019, the cathedral remains an important historical and architectural landmark. Restoration work is ongoing.\n",
      "\n",
      "4. **Montmartre**: Known for its bohemian past, charming streets, and the stunning Sacré-Cœur Basilica at its summit. Don't miss Place du Tertre, where local artists create and sell their work.\n",
      "\n",
      "5. **Champs-Élysées and Arc de Triomphe**: Stroll down the famous avenue, lined with luxury shops and cafes, and visit the iconic Arc de Triomphe at its end.\n",
      "\n",
      "6. **Seine River Cruise**: A relaxing way to see many of Paris's most famous landmarks, such as the Eiffel Tower, Notre-Dame, and the Louvre.\n",
      "\n",
      "7. **Musée d'Orsay**: Housed in a former railway station, this museum is home to an impressive collection of Impressionist and Post-Impressionist masterpieces.\n",
      "\n",
      "8. **Palais Garnier**: The famous opera house that inspired the novel \"The Phantom of the Opera.\" You can take a guided tour of the opulent building.\n",
      "\n",
      "9. **Luxembourg Garden**: A beautiful public park where you can relax, enjoy a picnic, or visit the Luxembourg Palace.\n",
      "\n",
      "10. **Marais District**: Known for its trendy boutiques, art galleries, and vibrant nightlife. Don't miss the historic Place des Vosges.\n",
      "\n",
      "11. **Sainte-Chapelle**: A stunning Gothic chapel known for its incredible stained-glass windows.\n",
      "\n",
      "12. **Versailles**: If you have time for a day trip, visit the Palace of Versailles and its beautiful gardens, a short train ride from Paris.\n",
      "\n",
      "13. **French Cuisine**: Enjoy Parisian cafes, bistros, and patisseries. Try local specialties like croissants, baguettes, escargot, and coq au vin.\n",
      "\n",
      "14. **Cabaret Shows**: Experience the glamour of Paris with a show at the Moulin Rouge or other famous cabarets.\n",
      "\n",
      "Enjoy your trip to Paris! It's a city full of enchantment and romance.\n"
     ]
    }
   ],
   "source": [
    "import os\n",
    "from azure.ai.inference import ChatCompletionsClient\n",
    "from azure.ai.inference.models import SystemMessage, UserMessage\n",
    "from azure.core.credentials import AzureKeyCredential\n",
    "from dotenv import load_dotenv\n",
    "\n",
    "load_dotenv()\n",
    "\n",
    "endpoint = os.getenv(\"AZURE_MISTRAL_API_ENDPOINT\")\n",
    "model_name = \"mistral-small-2503\"\n",
    "\n",
    "client = ChatCompletionsClient(\n",
    "    endpoint=endpoint,\n",
    "    credential=AzureKeyCredential(os.getenv(\"AZURE_MISTRAL_API_KEY\")),\n",
    "    api_version=\"2024-05-01-preview\"\n",
    ")\n",
    "\n",
    "response = client.complete(\n",
    "    messages=[\n",
    "        SystemMessage(content=\"You are a helpful assistant.\"),\n",
    "        UserMessage(content=\"I am going to Paris, what should I see?\"),\n",
    "    ],\n",
    "    max_tokens=2048,\n",
    "    temperature=0.8,\n",
    "    top_p=0.1,\n",
    "    model=model_name\n",
    ")\n",
    "\n",
    "print(response.choices[0].message.content)"
   ]
  }
 ],
 "metadata": {
  "kernelspec": {
   "display_name": "ai_env",
   "language": "python",
   "name": "python3"
  },
  "language_info": {
   "codemirror_mode": {
    "name": "ipython",
    "version": 3
   },
   "file_extension": ".py",
   "mimetype": "text/x-python",
   "name": "python",
   "nbconvert_exporter": "python",
   "pygments_lexer": "ipython3",
   "version": "3.12.11"
  }
 },
 "nbformat": 4,
 "nbformat_minor": 5
}
